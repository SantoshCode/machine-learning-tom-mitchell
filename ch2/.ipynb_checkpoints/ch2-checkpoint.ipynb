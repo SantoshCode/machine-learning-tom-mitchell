{
 "cells": [
  {
   "cell_type": "markdown",
   "metadata": {},
   "source": [
    "## Find-s Implementation\n",
    "\n",
    "![Screenshot](./images/find-s.png)"
   ]
  },
  {
   "cell_type": "code",
   "execution_count": 56,
   "metadata": {},
   "outputs": [],
   "source": [
    "import numpy as np"
   ]
  },
  {
   "cell_type": "code",
   "execution_count": 3,
   "metadata": {},
   "outputs": [],
   "source": [
    "data = np.array([\n",
    "    ['Sunny','Warm','Normal','Strong','Warm','Same',  'Yes'], \n",
    "    ['Sunny','Warm','High',  'Strong','Warm','Same',  'Yes'], \n",
    "    ['Rainy','Cold','High',  'Strong','Warm','Change','No'], \n",
    "    ['Sunny','Warm','High',  'Strong','Cool','Change','Yes'],\n",
    "    ['Rainy','Warm','High',  'Strong','Cool','Change','Yes']\n",
    "])"
   ]
  },
  {
   "cell_type": "code",
   "execution_count": 4,
   "metadata": {},
   "outputs": [
    {
     "name": "stdout",
     "output_type": "stream",
     "text": [
      "Number of rows:  5\n",
      "Number of columns:  7\n"
     ]
    }
   ],
   "source": [
    "rows, columns = data.shape\n",
    "print('Number of rows: ', rows)\n",
    "print('Number of columns: ', columns)"
   ]
  },
  {
   "cell_type": "code",
   "execution_count": 5,
   "metadata": {},
   "outputs": [
    {
     "name": "stdout",
     "output_type": "stream",
     "text": [
      "Most specific hypothesis is:  ['Φ' 'Φ' 'Φ' 'Φ' 'Φ' 'Φ']\n"
     ]
    }
   ],
   "source": [
    "most_specific_hypothesis = np.empty(columns - 1, dtype=object) ## last column is label\n",
    "\n",
    "for i in range(columns-1):\n",
    "    most_specific_hypothesis[i] = \"\\u03A6\" # unicode for Φ\n",
    "\n",
    "print(\"Most specific hypothesis is: \", most_specific_hypothesis)"
   ]
  },
  {
   "cell_type": "code",
   "execution_count": 6,
   "metadata": {},
   "outputs": [
    {
     "name": "stdout",
     "output_type": "stream",
     "text": [
      "Final Hypothesis:  ['?' '?' '?' '?' '?' '?']\n"
     ]
    }
   ],
   "source": [
    "for i in range(rows):\n",
    "\n",
    "    # Reject negative examples\n",
    "    if data[i, columns-1] == \"No\":\n",
    "        continue\n",
    "    else:\n",
    "        for j in range(columns-1):\n",
    "            if data[i,j] != most_specific_hypothesis[j]:\n",
    "                most_specific_hypothesis[j] = \"?\"\n",
    "    \n",
    "print(\"Final Hypothesis: \", most_specific_hypothesis)\n"
   ]
  },
  {
   "cell_type": "markdown",
   "metadata": {},
   "source": [
    "## Candidate Elimination Implementation\n",
    "\n",
    "![Screenshot](./images/can-eli.png)"
   ]
  },
  {
   "cell_type": "code",
   "execution_count": 7,
   "metadata": {},
   "outputs": [],
   "source": [
    "import numpy as np"
   ]
  },
  {
   "cell_type": "code",
   "execution_count": 8,
   "metadata": {},
   "outputs": [],
   "source": [
    "data = np.array([\n",
    "    ['Sunny','Warm','Normal','Strong','Warm','Same',  'Yes'], \n",
    "    ['Sunny','Warm','High',  'Strong','Warm','Same',  'Yes'], \n",
    "    ['Rainy','Cold','High',  'Strong','Warm','Change','No'], \n",
    "    ['Sunny','Warm','High',  'Strong','Cool','Change','Yes'],\n",
    "    ['Rainy','Warm','High',  'Strong','Cool','Change','Yes']\n",
    "])"
   ]
  },
  {
   "cell_type": "code",
   "execution_count": 9,
   "metadata": {},
   "outputs": [
    {
     "name": "stdout",
     "output_type": "stream",
     "text": [
      "Number of rows:  5\n",
      "Number of columns:  7\n"
     ]
    }
   ],
   "source": [
    "rows, columns = data.shape\n",
    "print('Number of rows: ', rows)\n",
    "print('Number of columns: ', columns)"
   ]
  },
  {
   "cell_type": "code",
   "execution_count": 10,
   "metadata": {},
   "outputs": [
    {
     "name": "stdout",
     "output_type": "stream",
     "text": [
      "Most specific hypothesis is:  ['Φ' 'Φ' 'Φ' 'Φ' 'Φ' 'Φ']\n"
     ]
    }
   ],
   "source": [
    "most_specific_hypothesis = np.empty(columns - 1, dtype=object) ## last column is label\n",
    "\n",
    "for i in range(columns-1):\n",
    "    most_specific_hypothesis[i] = \"\\u03A6\" # unicode for Φ\n",
    "\n",
    "print(\"Most specific hypothesis is: \", most_specific_hypothesis)"
   ]
  },
  {
   "cell_type": "code",
   "execution_count": 11,
   "metadata": {},
   "outputs": [
    {
     "name": "stdout",
     "output_type": "stream",
     "text": [
      "Most general hypothesis is:  ['?' '?' '?' '?' '?' '?']\n"
     ]
    }
   ],
   "source": [
    "most_general_hypothesis = np.empty(columns - 1, dtype=object) ## last column is label\n",
    "\n",
    "for i in range(columns-1):\n",
    "    most_general_hypothesis[i] = \"?\"\n",
    "\n",
    "print(\"Most general hypothesis is: \", most_general_hypothesis)"
   ]
  },
  {
   "cell_type": "code",
   "execution_count": 99,
   "metadata": {},
   "outputs": [],
   "source": [
    "def learn(data):\n",
    "    _, columns = data.shape\n",
    "    # Initializing specific and general hypotheses\n",
    "    positive_examples_indices = [i for i, h in enumerate(data) if h[len(h) - 1] == 'Yes']\n",
    "    specific_hypothesis = data[positive_examples_indices[0]].copy() # insert first positive example as specific hypothesis\n",
    "    \n",
    "    INSTANCE_LEN = len(specific_hypothesis)\n",
    "    generic_hypotheses = [[\"?\" for i in range(INSTANCE_LEN - 1)] for i in range(INSTANCE_LEN - 1)]\n",
    "    \n",
    "    \n",
    "    for i, instance in enumerate(data):\n",
    "        if instance[INSTANCE_LEN - 1] == 'Yes':\n",
    "            for x in range(INSTANCE_LEN - 1):\n",
    "                if instance[x] != specific_hypothesis[x]:\n",
    "                    # if encountered different attr value then replace it with ?\n",
    "                    specific_hypothesis[x] = \"?\"\n",
    "                    \n",
    "                    # remains sames, since ? includes any attr value\n",
    "                    generic_hypotheses[x][x] = \"?\"\n",
    "        \n",
    "        else:\n",
    "            for x in range(INSTANCE_LEN - 1):\n",
    "                if instance[x] != specific_hypothesis[x]:\n",
    "                    # copying hypotheses which is consistent with all the training examples seen till now\n",
    "                    generic_hypotheses[x][x] = specific_hypothesis[x]\n",
    "                else:\n",
    "                    # remains same\n",
    "                    generic_hypotheses[x][x] = \"?\"\n",
    "        \n",
    "    \n",
    "    indices = [i for i, val in enumerate(generic_hypotheses) if np.array_equal(val, most_general_hypothesis)]\n",
    "    generic_hypotheses = np.delete(generic_hypotheses, indices, axis=0)\n",
    "    \n",
    "    return [specific_hypothesis, generic_hypotheses]\n",
    "     "
   ]
  },
  {
   "cell_type": "code",
   "execution_count": 101,
   "metadata": {},
   "outputs": [
    {
     "name": "stdout",
     "output_type": "stream",
     "text": [
      "Final Specific Hypothesis:  ['?' 'Warm' '?' 'Strong' '?' '?' 'Yes']\n",
      "Final General Hypotheses:  [['?' 'Warm' '?' '?' '?' '?']]\n"
     ]
    }
   ],
   "source": [
    "s_final, g_final = learn(data)\n",
    "\n",
    "print(\"Final Specific Hypothesis: \", s_final)\n",
    "print(\"Final General Hypotheses: \", g_final)"
   ]
  },
  {
   "cell_type": "code",
   "execution_count": 106,
   "metadata": {},
   "outputs": [],
   "source": [
    "# def get_target_concept_value(data, hypothesis):\n",
    "#     data_without_target_value = data[:-1].copy()\n",
    "#     indices = [i for i, val in enumerate(data_without_target_value) if np.array_equal(val, instance)]\n",
    "    \n",
    "#     return data[indices[0]]"
   ]
  },
  {
   "cell_type": "markdown",
   "metadata": {},
   "source": [
    "#### Still more work is remaining"
   ]
  },
  {
   "cell_type": "code",
   "execution_count": null,
   "metadata": {},
   "outputs": [],
   "source": []
  },
  {
   "cell_type": "code",
   "execution_count": null,
   "metadata": {},
   "outputs": [],
   "source": []
  }
 ],
 "metadata": {
  "kernelspec": {
   "display_name": "Python 3 (ipykernel)",
   "language": "python",
   "name": "python3"
  },
  "language_info": {
   "codemirror_mode": {
    "name": "ipython",
    "version": 3
   },
   "file_extension": ".py",
   "mimetype": "text/x-python",
   "name": "python",
   "nbconvert_exporter": "python",
   "pygments_lexer": "ipython3",
   "version": "3.9.12"
  },
  "vscode": {
   "interpreter": {
    "hash": "ac1cd44c6d331004346ec9f51f1403fb18ea203cfb6c8911813fea22533f0f8b"
   }
  }
 },
 "nbformat": 4,
 "nbformat_minor": 2
}
